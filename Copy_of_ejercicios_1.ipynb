{
  "nbformat": 4,
  "nbformat_minor": 5,
  "metadata": {
    "kernelspec": {
      "display_name": "conda_python3",
      "language": "python",
      "name": "conda_python3"
    },
    "language_info": {
      "codemirror_mode": {
        "name": "ipython",
        "version": 3
      },
      "file_extension": ".py",
      "mimetype": "text/x-python",
      "name": "python",
      "nbconvert_exporter": "python",
      "pygments_lexer": "ipython3",
      "version": "3.6.13"
    },
    "colab": {
      "name": "Copy of ejercicios-1.ipynb",
      "provenance": [],
      "collapsed_sections": [],
      "include_colab_link": true
    }
  },
  "cells": [
    {
      "cell_type": "markdown",
      "metadata": {
        "id": "view-in-github",
        "colab_type": "text"
      },
      "source": [
        "<a href=\"https://colab.research.google.com/github/a20145766/my_playlist/blob/main/Copy_of_ejercicios_1.ipynb\" target=\"_parent\"><img src=\"https://colab.research.google.com/assets/colab-badge.svg\" alt=\"Open In Colab\"/></a>"
      ]
    },
    {
      "cell_type": "markdown",
      "metadata": {
        "id": "1b2eb120"
      },
      "source": [
        "## Ejercicios"
      ],
      "id": "1b2eb120"
    },
    {
      "cell_type": "markdown",
      "metadata": {
        "id": "8e162dc3"
      },
      "source": [
        "### 1. Uso de listas"
      ],
      "id": "8e162dc3"
    },
    {
      "cell_type": "code",
      "metadata": {
        "id": "2d06790f"
      },
      "source": [
        "## considere el siguiente string\n",
        "## (recuerden que los strings están entre '' o entre \"\". A veces, es cómodo usar \"\" cuando el string lleva ')\n",
        "\n",
        "string = \"Los selk'nam u onas son un pueblo amerindio que hasta principios del siglo XX vivía en el norte y centro de la isla Grande de Tierra del Fuego, en el extremo austral del continente americano, en Argentina y Chile. Originalmente eran nómadas terrestres, cazadores y recolectores. Luego de un genocidio a principios del siglo XX y un proceso de transculturación que operó por más de un siglo, los selknam que continúan viviendo en la porción argentina de la isla se encuentran aculturados por completo.\""
      ],
      "id": "2d06790f",
      "execution_count": null,
      "outputs": []
    },
    {
      "cell_type": "code",
      "metadata": {
        "colab": {
          "base_uri": "https://localhost:8080/",
          "height": 90
        },
        "id": "NyNu4ce8RZ7o",
        "outputId": "e08508ad-94db-4929-ea5c-a37213baf5bf"
      },
      "source": [
        "string"
      ],
      "id": "NyNu4ce8RZ7o",
      "execution_count": null,
      "outputs": [
        {
          "output_type": "execute_result",
          "data": {
            "application/vnd.google.colaboratory.intrinsic+json": {
              "type": "string"
            },
            "text/plain": [
              "\"Los selk'nam u onas son un pueblo amerindio que hasta principios del siglo XX vivía en el norte y centro de la isla Grande de Tierra del Fuego, en el extremo austral del continente americano, en Argentina y Chile. Originalmente eran nómadas terrestres, cazadores y recolectores. Luego de un genocidio a principios del siglo XX y un proceso de transculturación que operó por más de un siglo, los selknam que continúan viviendo en la porción argentina de la isla se encuentran aculturados por completo.\""
            ]
          },
          "metadata": {},
          "execution_count": 4
        }
      ]
    },
    {
      "cell_type": "code",
      "metadata": {
        "id": "220ba640"
      },
      "source": [
        "## el primer desafío es dividir este string en palabras ¿Cómo hacemos eso? :)\n",
        "## manera 1: pruebe qué ocurre con el siguiente código\n",
        "\n",
        "lista_strings = string.split()"
      ],
      "id": "220ba640",
      "execution_count": null,
      "outputs": []
    },
    {
      "cell_type": "code",
      "metadata": {
        "id": "a1ff537f",
        "colab": {
          "base_uri": "https://localhost:8080/"
        },
        "outputId": "63262c6b-ce63-4ddf-f899-5fc98ce648fd"
      },
      "source": [
        "lista_strings[:10]"
      ],
      "id": "a1ff537f",
      "execution_count": null,
      "outputs": [
        {
          "output_type": "execute_result",
          "data": {
            "text/plain": [
              "['Los',\n",
              " \"selk'nam\",\n",
              " 'u',\n",
              " 'onas',\n",
              " 'son',\n",
              " 'un',\n",
              " 'pueblo',\n",
              " 'amerindio',\n",
              " 'que',\n",
              " 'hasta']"
            ]
          },
          "metadata": {},
          "execution_count": 4
        }
      ]
    },
    {
      "cell_type": "code",
      "metadata": {
        "id": "0ff6f149"
      },
      "source": [
        "## responda: ¿Qué hace .split() al final de un string?"
      ],
      "id": "0ff6f149",
      "execution_count": null,
      "outputs": []
    },
    {
      "cell_type": "code",
      "metadata": {
        "id": "8e696d6d"
      },
      "source": [
        "## determine ahora el número de palabras del texto\n",
        "## por el momento, la variable numero_palabras vale 0. Usted debe reasignarla al valor correspondiente\n",
        "numero_palabras = 0"
      ],
      "id": "8e696d6d",
      "execution_count": null,
      "outputs": []
    },
    {
      "cell_type": "code",
      "metadata": {
        "id": "e4de09b0"
      },
      "source": [
        "numero_palabras = len(lista_strings)"
      ],
      "id": "e4de09b0",
      "execution_count": null,
      "outputs": []
    },
    {
      "cell_type": "code",
      "metadata": {
        "id": "e9202470",
        "outputId": "bdff755a-5233-49ae-9724-bba1ae227e71"
      },
      "source": [
        "numero_palabras"
      ],
      "id": "e9202470",
      "execution_count": null,
      "outputs": [
        {
          "data": {
            "text/plain": [
              "84"
            ]
          },
          "execution_count": 7,
          "metadata": {},
          "output_type": "execute_result"
        }
      ]
    },
    {
      "cell_type": "code",
      "metadata": {
        "id": "b2bc4af6"
      },
      "source": [
        "## definamos otra lista, que llamamos texto_copia\n",
        "\n",
        "texto_copia = []"
      ],
      "id": "b2bc4af6",
      "execution_count": null,
      "outputs": []
    },
    {
      "cell_type": "code",
      "metadata": {
        "id": "ff53825f",
        "outputId": "9410b43d-67ae-4598-d82d-65f999f2b258"
      },
      "source": [
        "len(texto_copia)"
      ],
      "id": "ff53825f",
      "execution_count": null,
      "outputs": [
        {
          "data": {
            "text/plain": [
              "0"
            ]
          },
          "execution_count": 9,
          "metadata": {},
          "output_type": "execute_result"
        }
      ]
    },
    {
      "cell_type": "code",
      "metadata": {
        "id": "7df59d8f"
      },
      "source": [
        "for item in lista_strings:\n",
        "    texto_copia = texto_copia + [item]\n",
        "    #texto_copia += [item]"
      ],
      "id": "7df59d8f",
      "execution_count": null,
      "outputs": []
    },
    {
      "cell_type": "code",
      "metadata": {
        "id": "5a0853ff",
        "outputId": "2b1a4d3e-d55a-4dbb-b28a-491716e58119"
      },
      "source": [
        "texto_copia[:10]"
      ],
      "id": "5a0853ff",
      "execution_count": null,
      "outputs": [
        {
          "data": {
            "text/plain": [
              "['Los',\n",
              " \"selk'nam\",\n",
              " 'u',\n",
              " 'onas',\n",
              " 'son',\n",
              " 'un',\n",
              " 'pueblo',\n",
              " 'amerindio',\n",
              " 'que',\n",
              " 'hasta']"
            ]
          },
          "execution_count": 11,
          "metadata": {},
          "output_type": "execute_result"
        }
      ]
    },
    {
      "cell_type": "code",
      "metadata": {
        "id": "969bc1af"
      },
      "source": [
        "## su tarea es copiar cada palabra de lista_strings en texto_copia. Use un ciclo for :)"
      ],
      "id": "969bc1af",
      "execution_count": null,
      "outputs": []
    },
    {
      "cell_type": "code",
      "metadata": {
        "id": "b1cf8797"
      },
      "source": [
        "## cuente el número de elementos de texto_copia: ¿Coincide con el largo de lista_strings?"
      ],
      "id": "b1cf8797",
      "execution_count": null,
      "outputs": []
    },
    {
      "cell_type": "code",
      "metadata": {
        "id": "73e9af4d",
        "outputId": "64a6b958-5884-4802-a9b1-ea9bce080a6b"
      },
      "source": [
        "len(lista_strings)"
      ],
      "id": "73e9af4d",
      "execution_count": null,
      "outputs": [
        {
          "data": {
            "text/plain": [
              "84"
            ]
          },
          "execution_count": 14,
          "metadata": {},
          "output_type": "execute_result"
        }
      ]
    },
    {
      "cell_type": "code",
      "metadata": {
        "id": "f15baebd",
        "outputId": "41607d4c-83e3-4a3d-e22d-d85ef67e6e6e"
      },
      "source": [
        "len(texto_copia)"
      ],
      "id": "f15baebd",
      "execution_count": null,
      "outputs": [
        {
          "data": {
            "text/plain": [
              "84"
            ]
          },
          "execution_count": 15,
          "metadata": {},
          "output_type": "execute_result"
        }
      ]
    },
    {
      "cell_type": "markdown",
      "metadata": {
        "id": "0a96fd34"
      },
      "source": [
        "### 2. Palabras en minúscula"
      ],
      "id": "0a96fd34"
    },
    {
      "cell_type": "code",
      "metadata": {
        "id": "6b4db192"
      },
      "source": [
        "## ¿Qué ocurre con el siguiente código?\n",
        "\n",
        "palabra = 'Lingüística'\n",
        "\n",
        "palabra_min = palabra.lower()"
      ],
      "id": "6b4db192",
      "execution_count": null,
      "outputs": []
    },
    {
      "cell_type": "code",
      "metadata": {
        "id": "e2503739",
        "colab": {
          "base_uri": "https://localhost:8080/",
          "height": 35
        },
        "outputId": "f96433fc-5a55-4db2-9569-02943489b80b"
      },
      "source": [
        "palabra_min"
      ],
      "id": "e2503739",
      "execution_count": null,
      "outputs": [
        {
          "output_type": "execute_result",
          "data": {
            "application/vnd.google.colaboratory.intrinsic+json": {
              "type": "string"
            },
            "text/plain": [
              "'lingüística'"
            ]
          },
          "metadata": {},
          "execution_count": 7
        }
      ]
    },
    {
      "cell_type": "code",
      "metadata": {
        "id": "c81f6129"
      },
      "source": [
        "## la tarea es: defina una nueva lista, que llamaremos lista_strings_min \n",
        "## que contenga las palabras en minúscula de lista_strings. Use un ciclo for"
      ],
      "id": "c81f6129",
      "execution_count": null,
      "outputs": []
    },
    {
      "cell_type": "code",
      "metadata": {
        "id": "2f396066"
      },
      "source": [
        "lista_strings_min = []"
      ],
      "id": "2f396066",
      "execution_count": null,
      "outputs": []
    },
    {
      "cell_type": "code",
      "metadata": {
        "id": "2b9b2345"
      },
      "source": [
        "for palabra in lista_strings:\n",
        "    palabra_min = palabra.lower()\n",
        "    lista_strings_min = lista_strings_min + [palabra_min] "
      ],
      "id": "2b9b2345",
      "execution_count": null,
      "outputs": []
    },
    {
      "cell_type": "code",
      "metadata": {
        "id": "696c5017"
      },
      "source": [
        "#for palabra in lista_strings:\n",
        "#    lista_strings_min = lista_strings_min + [palabra.lower()] "
      ],
      "id": "696c5017",
      "execution_count": null,
      "outputs": []
    },
    {
      "cell_type": "code",
      "metadata": {
        "id": "f0cfe40a",
        "outputId": "ec751ec3-aeac-4968-8155-229f49b7c59b"
      },
      "source": [
        "lista_strings_min[:10]"
      ],
      "id": "f0cfe40a",
      "execution_count": null,
      "outputs": [
        {
          "data": {
            "text/plain": [
              "['los',\n",
              " \"selk'nam\",\n",
              " 'u',\n",
              " 'onas',\n",
              " 'son',\n",
              " 'un',\n",
              " 'pueblo',\n",
              " 'amerindio',\n",
              " 'que',\n",
              " 'hasta']"
            ]
          },
          "execution_count": 22,
          "metadata": {},
          "output_type": "execute_result"
        }
      ]
    },
    {
      "cell_type": "code",
      "metadata": {
        "id": "d68dede9"
      },
      "source": [
        "## que contenga las palabras en minúscula de lista_strings. Use un ciclo for"
      ],
      "id": "d68dede9",
      "execution_count": null,
      "outputs": []
    }
  ]
}